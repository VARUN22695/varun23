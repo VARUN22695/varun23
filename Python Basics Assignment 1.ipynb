{
  "nbformat": 4,
  "nbformat_minor": 0,
  "metadata": {
    "colab": {
      "provenance": []
    },
    "kernelspec": {
      "name": "python3",
      "display_name": "Python 3"
    },
    "language_info": {
      "name": "python"
    }
  },
  "cells": [
    {
      "cell_type": "markdown",
      "source": [
        "# 1. In the below elements which of them are values or an expression? eg:- values can be integer or string and expressions will be mathematical operators.\n",
        "##*\n",
        "##'hello'\n",
        "##-87.8\n",
        "##-\n",
        "##/\n",
        "##+\n",
        "## 6\n",
        "#ANSWERS\n",
        "          values:- 'hello' ,  6 \n",
        "          expressions:- * , - , / , +\n",
        "          note: 89.8 is float number .\n"
      ],
      "metadata": {
        "id": "6ryDGTgfpp6C"
      }
    },
    {
      "cell_type": "markdown",
      "source": [
        "#2. What is the difference between string and variable?"
      ],
      "metadata": {
        "id": "AFAyYlgabnbs"
      }
    },
    {
      "cell_type": "markdown",
      "source": [
        " variable is a kind of entity which holds a data in a main memory.data can be a file ,data type or anything.\n",
        " string is a sequence of characters and  type of information which is stored in variable. string is enclosed in ' ' or \" \""
      ],
      "metadata": {
        "id": "ifCl-4fmb0Ie"
      }
    },
    {
      "cell_type": "markdown",
      "source": [
        "#3. Describe three different data types."
      ],
      "metadata": {
        "id": "BgCRKPoKdRWy"
      }
    },
    {
      "cell_type": "markdown",
      "source": [
        "3 different type of data types are-\n",
        "\n",
        "\n",
        "\n",
        "\n",
        "  1.Numerical data type - int datatype, float data type, complex data type.\n",
        "\n",
        "\n",
        "\n",
        "\n",
        "int data type is a data type in which integer number stored in variable\n",
        "ex:- a= 8\n",
        "\n",
        "\n",
        "\n",
        "\n",
        "float is a dataype which has decimal points\n",
        "ex:- b= 8.50\n",
        "\n",
        "\n",
        "\n",
        "\n",
        "complex data type is a numerical value with real number and imaginary number\n",
        "ex:- c= 2+4j .. where is j is (-1)** 0.5\n",
        "\n",
        "\n",
        "\n",
        "\n",
        "2. string data type - it is a data type which has sequence of characters and enclosed with in ' ' or \" \". Example\n",
        "\n",
        " name= 'varun'\n",
        "\n",
        "\n",
        "\n",
        "\n",
        "\n",
        "\n",
        "\n",
        "3. boolean data type- it is a data type which contains either True or False stored in it ..and value of True is 1 and False is 0\n",
        "ex:- a = True\n",
        "     b= False\n"
      ],
      "metadata": {
        "id": "sACN8xGZdXNX"
      }
    },
    {
      "cell_type": "markdown",
      "source": [
        "#4. What is an expression made up of? What do all expressions do?"
      ],
      "metadata": {
        "id": "uzFajAfHf55Z"
      }
    },
    {
      "cell_type": "markdown",
      "source": [
        "An expression is a combination of operators and operands..\n",
        "ex:- x + y = 5 . Here x and y are operands and + and = are operators.. all expressions are interpreted with operands and operators to produce some value "
      ],
      "metadata": {
        "id": "Am1mMkkLgMTd"
      }
    },
    {
      "cell_type": "markdown",
      "source": [
        "#5. This assignment statements, like spam = 10. What is the difference between an expression and a statement?"
      ],
      "metadata": {
        "id": "lglQG-BehWhv"
      }
    },
    {
      "cell_type": "markdown",
      "source": [
        " expressions means which produces some vaule..and statement is a entire line of code.therefore,\n",
        "\n",
        "spam= 100 is a statement .\n",
        "\n",
        "one more example\n",
        "\n",
        "x= 60\n",
        "\n",
        "y= 20+ x/4\n",
        "\n",
        "Here x=60 , y= 20+ x/4 is Statement and\n",
        "\n",
        "x/4 is a expression.\n",
        "\n",
        "\n",
        "\n",
        "\n",
        "\n",
        "\n",
        "\n",
        "\n",
        "\n",
        "\n",
        "\n",
        "\n",
        "\n",
        "\n",
        "\n",
        "\n"
      ],
      "metadata": {
        "id": "xs-C-ZWcimKd"
      }
    },
    {
      "cell_type": "markdown",
      "source": [
        "#6. After running the following code, what does the variable bacon contain?\n",
        "                           bacon = 22\n",
        "                           bacon + 1"
      ],
      "metadata": {
        "id": "6xEKK_HciqKf"
      }
    },
    {
      "cell_type": "markdown",
      "source": [
        "bacon contains variable 22 still after exceuting the code because it's not assigned to bacon..PROOF BELOW"
      ],
      "metadata": {
        "id": "7no-UeIjjFSp"
      }
    },
    {
      "cell_type": "code",
      "source": [
        "bacon= 22\n",
        "print(bacon+1)\n",
        "print(bacon) # proof to show variable bacon contains 22 vaule"
      ],
      "metadata": {
        "colab": {
          "base_uri": "https://localhost:8080/"
        },
        "id": "3lUVqWBwi-Jw",
        "outputId": "7afdfc38-7d2d-429f-d56c-c50659f81e7e"
      },
      "execution_count": 18,
      "outputs": [
        {
          "output_type": "stream",
          "name": "stdout",
          "text": [
            "23\n",
            "22\n"
          ]
        }
      ]
    },
    {
      "cell_type": "markdown",
      "source": [
        "#7. What should the values of the following two terms be?\n",
        "             'spam'+'spamspam' \n",
        "              'spam'*3"
      ],
      "metadata": {
        "id": "aoebhsJhkTd3"
      }
    },
    {
      "cell_type": "markdown",
      "source": [
        "answers are\n",
        "        \n",
        "         1.'spamspamspam'\n",
        "\n",
        "         2.'spamspamspam' \n"
      ],
      "metadata": {
        "id": "qwVD-g-dk3nL"
      }
    },
    {
      "cell_type": "code",
      "source": [
        "'spam'+'spamspam' #concatination happens"
      ],
      "metadata": {
        "colab": {
          "base_uri": "https://localhost:8080/",
          "height": 36
        },
        "id": "My9Xzh2ok2dz",
        "outputId": "3c69b4fd-dae6-45c1-f648-fac3a0607c46"
      },
      "execution_count": 7,
      "outputs": [
        {
          "output_type": "execute_result",
          "data": {
            "text/plain": [
              "'spamspamspam'"
            ],
            "application/vnd.google.colaboratory.intrinsic+json": {
              "type": "string"
            }
          },
          "metadata": {},
          "execution_count": 7
        }
      ]
    },
    {
      "cell_type": "code",
      "source": [
        "'spam'*3             #concatination happens"
      ],
      "metadata": {
        "colab": {
          "base_uri": "https://localhost:8080/",
          "height": 36
        },
        "id": "AtPmDa-2leFC",
        "outputId": "e5835a75-1f09-4af6-b886-d78d80706664"
      },
      "execution_count": 8,
      "outputs": [
        {
          "output_type": "execute_result",
          "data": {
            "text/plain": [
              "'spamspamspam'"
            ],
            "application/vnd.google.colaboratory.intrinsic+json": {
              "type": "string"
            }
          },
          "metadata": {},
          "execution_count": 8
        }
      ]
    },
    {
      "cell_type": "markdown",
      "source": [
        "#8. Why is eggs a valid variable name while 100 is invalid?"
      ],
      "metadata": {
        "id": "KfaRTechltK3"
      }
    },
    {
      "cell_type": "markdown",
      "source": [
        "Because variable name should not start with number... EXAMPLE BELOW"
      ],
      "metadata": {
        "id": "IsMOIgPhmEwc"
      }
    },
    {
      "cell_type": "code",
      "source": [
        "eggs= 5\n",
        "eggs*10"
      ],
      "metadata": {
        "colab": {
          "base_uri": "https://localhost:8080/"
        },
        "id": "6QFoielFl-Uj",
        "outputId": "8af6b662-0fb6-4e60-c4ab-96597a842201"
      },
      "execution_count": 10,
      "outputs": [
        {
          "output_type": "execute_result",
          "data": {
            "text/plain": [
              "50"
            ]
          },
          "metadata": {},
          "execution_count": 10
        }
      ]
    },
    {
      "cell_type": "code",
      "source": [
        "100 = \"varun\"\n",
        "100+\"kumar\""
      ],
      "metadata": {
        "colab": {
          "base_uri": "https://localhost:8080/",
          "height": 130
        },
        "id": "L-yklIvZmZbA",
        "outputId": "3c42a9ad-2708-4a84-e38f-36d4220152e3"
      },
      "execution_count": 11,
      "outputs": [
        {
          "output_type": "error",
          "ename": "SyntaxError",
          "evalue": "ignored",
          "traceback": [
            "\u001b[0;36m  File \u001b[0;32m\"<ipython-input-11-86905e8e7aa5>\"\u001b[0;36m, line \u001b[0;32m1\u001b[0m\n\u001b[0;31m    100 = \"varun\"\u001b[0m\n\u001b[0m    ^\u001b[0m\n\u001b[0;31mSyntaxError\u001b[0m\u001b[0;31m:\u001b[0m cannot assign to literal\n"
          ]
        }
      ]
    },
    {
      "cell_type": "markdown",
      "source": [
        "#9. What three functions can be used to get the integer, floating-point number, or string version of a value?"
      ],
      "metadata": {
        "id": "JHIPsnr3mpSF"
      }
    },
    {
      "cell_type": "markdown",
      "source": [
        "int() float() and str()  can be used to get the integer, floating-point number, or string version of a value. EXAMPLE BELOW"
      ],
      "metadata": {
        "id": "PdwwqbBPnLw7"
      }
    },
    {
      "cell_type": "code",
      "source": [
        "a= 7.5\n",
        "b= 5\n",
        "c= 89\n",
        "print(int(a))\n",
        "print(float(b))\n",
        "str(c)"
      ],
      "metadata": {
        "colab": {
          "base_uri": "https://localhost:8080/",
          "height": 70
        },
        "id": "P-C509p6nGSz",
        "outputId": "b57baa86-7cf6-4e49-87d0-85ec6c38f74d"
      },
      "execution_count": 20,
      "outputs": [
        {
          "output_type": "stream",
          "name": "stdout",
          "text": [
            "7\n",
            "5.0\n"
          ]
        },
        {
          "output_type": "execute_result",
          "data": {
            "text/plain": [
              "'89'"
            ],
            "application/vnd.google.colaboratory.intrinsic+json": {
              "type": "string"
            }
          },
          "metadata": {},
          "execution_count": 20
        }
      ]
    },
    {
      "cell_type": "markdown",
      "source": [
        "#10. Why does this expression cause an error? How can you fix it?\n",
        "'I have eaten'+ 99 +'burritos.'"
      ],
      "metadata": {
        "id": "Zo71pz4pnt4B"
      }
    },
    {
      "cell_type": "markdown",
      "source": [
        "The expression causes error because only string and string can be concatinated.. to fix it we should convert 99 to string by replacing \"99 \" or '99'..PROOF BELOW"
      ],
      "metadata": {
        "id": "sWwMUh3yoNtg"
      }
    },
    {
      "cell_type": "code",
      "source": [
        "'I have eaten '+'99'+' burritos.'"
      ],
      "metadata": {
        "colab": {
          "base_uri": "https://localhost:8080/",
          "height": 36
        },
        "id": "7O2lbgafnpPv",
        "outputId": "4f982c6e-3dec-4b72-f2c5-7994b6493dff"
      },
      "execution_count": 17,
      "outputs": [
        {
          "output_type": "execute_result",
          "data": {
            "text/plain": [
              "'I have eaten 99 burritos.'"
            ],
            "application/vnd.google.colaboratory.intrinsic+json": {
              "type": "string"
            }
          },
          "metadata": {},
          "execution_count": 17
        }
      ]
    },
    {
      "cell_type": "code",
      "source": [],
      "metadata": {
        "id": "LQIFSBs3on-7"
      },
      "execution_count": null,
      "outputs": []
    }
  ]
}